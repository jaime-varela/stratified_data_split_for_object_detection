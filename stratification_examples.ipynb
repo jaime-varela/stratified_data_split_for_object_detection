{
 "cells": [
  {
   "cell_type": "markdown",
   "metadata": {},
   "source": [
    "## Load And Save A Coco Dataset"
   ]
  },
  {
   "cell_type": "code",
   "execution_count": 1,
   "metadata": {},
   "outputs": [
    {
     "data": {
      "text/html": [
       "<div>\n",
       "<style scoped>\n",
       "    .dataframe tbody tr th:only-of-type {\n",
       "        vertical-align: middle;\n",
       "    }\n",
       "\n",
       "    .dataframe tbody tr th {\n",
       "        vertical-align: top;\n",
       "    }\n",
       "\n",
       "    .dataframe thead th {\n",
       "        text-align: right;\n",
       "    }\n",
       "</style>\n",
       "<table border=\"1\" class=\"dataframe\">\n",
       "  <thead>\n",
       "    <tr style=\"text-align: right;\">\n",
       "      <th></th>\n",
       "      <th>image_id</th>\n",
       "      <th>person</th>\n",
       "      <th>bicycle</th>\n",
       "      <th>car</th>\n",
       "      <th>motorcycle</th>\n",
       "      <th>airplane</th>\n",
       "      <th>bus</th>\n",
       "      <th>train</th>\n",
       "      <th>truck</th>\n",
       "      <th>boat</th>\n",
       "      <th>...</th>\n",
       "      <th>toaster</th>\n",
       "      <th>sink</th>\n",
       "      <th>refrigerator</th>\n",
       "      <th>book</th>\n",
       "      <th>clock</th>\n",
       "      <th>vase</th>\n",
       "      <th>scissors</th>\n",
       "      <th>teddy bear</th>\n",
       "      <th>hair drier</th>\n",
       "      <th>toothbrush</th>\n",
       "    </tr>\n",
       "  </thead>\n",
       "  <tbody>\n",
       "    <tr>\n",
       "      <th>0</th>\n",
       "      <td>397133</td>\n",
       "      <td>2</td>\n",
       "      <td>0</td>\n",
       "      <td>0</td>\n",
       "      <td>0</td>\n",
       "      <td>0</td>\n",
       "      <td>0</td>\n",
       "      <td>0</td>\n",
       "      <td>0</td>\n",
       "      <td>0</td>\n",
       "      <td>...</td>\n",
       "      <td>0</td>\n",
       "      <td>1</td>\n",
       "      <td>0</td>\n",
       "      <td>0</td>\n",
       "      <td>0</td>\n",
       "      <td>0</td>\n",
       "      <td>0</td>\n",
       "      <td>0</td>\n",
       "      <td>0</td>\n",
       "      <td>0</td>\n",
       "    </tr>\n",
       "    <tr>\n",
       "      <th>1</th>\n",
       "      <td>37777</td>\n",
       "      <td>0</td>\n",
       "      <td>0</td>\n",
       "      <td>0</td>\n",
       "      <td>0</td>\n",
       "      <td>0</td>\n",
       "      <td>0</td>\n",
       "      <td>0</td>\n",
       "      <td>0</td>\n",
       "      <td>0</td>\n",
       "      <td>...</td>\n",
       "      <td>0</td>\n",
       "      <td>1</td>\n",
       "      <td>1</td>\n",
       "      <td>0</td>\n",
       "      <td>0</td>\n",
       "      <td>0</td>\n",
       "      <td>0</td>\n",
       "      <td>0</td>\n",
       "      <td>0</td>\n",
       "      <td>0</td>\n",
       "    </tr>\n",
       "    <tr>\n",
       "      <th>2</th>\n",
       "      <td>252219</td>\n",
       "      <td>3</td>\n",
       "      <td>0</td>\n",
       "      <td>0</td>\n",
       "      <td>0</td>\n",
       "      <td>0</td>\n",
       "      <td>0</td>\n",
       "      <td>0</td>\n",
       "      <td>0</td>\n",
       "      <td>0</td>\n",
       "      <td>...</td>\n",
       "      <td>0</td>\n",
       "      <td>0</td>\n",
       "      <td>0</td>\n",
       "      <td>0</td>\n",
       "      <td>0</td>\n",
       "      <td>0</td>\n",
       "      <td>0</td>\n",
       "      <td>0</td>\n",
       "      <td>0</td>\n",
       "      <td>0</td>\n",
       "    </tr>\n",
       "    <tr>\n",
       "      <th>3</th>\n",
       "      <td>87038</td>\n",
       "      <td>14</td>\n",
       "      <td>2</td>\n",
       "      <td>0</td>\n",
       "      <td>0</td>\n",
       "      <td>0</td>\n",
       "      <td>0</td>\n",
       "      <td>0</td>\n",
       "      <td>0</td>\n",
       "      <td>0</td>\n",
       "      <td>...</td>\n",
       "      <td>0</td>\n",
       "      <td>0</td>\n",
       "      <td>0</td>\n",
       "      <td>0</td>\n",
       "      <td>0</td>\n",
       "      <td>0</td>\n",
       "      <td>0</td>\n",
       "      <td>0</td>\n",
       "      <td>0</td>\n",
       "      <td>0</td>\n",
       "    </tr>\n",
       "    <tr>\n",
       "      <th>4</th>\n",
       "      <td>174482</td>\n",
       "      <td>0</td>\n",
       "      <td>1</td>\n",
       "      <td>5</td>\n",
       "      <td>0</td>\n",
       "      <td>0</td>\n",
       "      <td>0</td>\n",
       "      <td>0</td>\n",
       "      <td>3</td>\n",
       "      <td>0</td>\n",
       "      <td>...</td>\n",
       "      <td>0</td>\n",
       "      <td>0</td>\n",
       "      <td>0</td>\n",
       "      <td>0</td>\n",
       "      <td>0</td>\n",
       "      <td>0</td>\n",
       "      <td>0</td>\n",
       "      <td>0</td>\n",
       "      <td>0</td>\n",
       "      <td>0</td>\n",
       "    </tr>\n",
       "  </tbody>\n",
       "</table>\n",
       "<p>5 rows × 81 columns</p>\n",
       "</div>"
      ],
      "text/plain": [
       "   image_id  person  bicycle  car  motorcycle  airplane  bus  train  truck  \\\n",
       "0    397133       2        0    0           0         0    0      0      0   \n",
       "1     37777       0        0    0           0         0    0      0      0   \n",
       "2    252219       3        0    0           0         0    0      0      0   \n",
       "3     87038      14        2    0           0         0    0      0      0   \n",
       "4    174482       0        1    5           0         0    0      0      3   \n",
       "\n",
       "   boat  ...  toaster  sink  refrigerator  book  clock  vase  scissors  \\\n",
       "0     0  ...        0     1             0     0      0     0         0   \n",
       "1     0  ...        0     1             1     0      0     0         0   \n",
       "2     0  ...        0     0             0     0      0     0         0   \n",
       "3     0  ...        0     0             0     0      0     0         0   \n",
       "4     0  ...        0     0             0     0      0     0         0   \n",
       "\n",
       "   teddy bear  hair drier  toothbrush  \n",
       "0           0           0           0  \n",
       "1           0           0           0  \n",
       "2           0           0           0  \n",
       "3           0           0           0  \n",
       "4           0           0           0  \n",
       "\n",
       "[5 rows x 81 columns]"
      ]
     },
     "execution_count": 1,
     "metadata": {},
     "output_type": "execute_result"
    }
   ],
   "source": [
    "import json\n",
    "import requests\n",
    "import pandas as pd\n",
    "from io import BytesIO\n",
    "from zipfile import ZipFile\n",
    "from coco_utilities import get_image_to_class_count_dataframe\n",
    "#------- Config ------------\n",
    "# set to false if a full_coco_data file has not been downloaded\n",
    "\n",
    "LOAD_FILE = True\n",
    "\n",
    "# If False, will run stratification on the entire COCO dataset\n",
    "SAMPLE_DATA = True\n",
    "\n",
    "# -----------------------------------\n",
    "\n",
    "# Step 1: Download COCO 2017 validation annotations\n",
    "if LOAD_FILE:\n",
    "    with open(\"full_coco_data.json\",'rb') as f:\n",
    "        data = json.load(f)\n",
    "else:\n",
    "    url = \"http://images.cocodataset.org/annotations/annotations_trainval2017.zip\"\n",
    "    r = requests.get(url)\n",
    "    z = ZipFile(BytesIO(r.content))\n",
    "    ann_file = \"annotations/instances_val2017.json\"\n",
    "    data = json.load(z.open(ann_file))\n",
    "\n",
    "df = get_image_to_class_count_dataframe(data)\n",
    "\n",
    "# Show sample\n",
    "df.head()\n"
   ]
  },
  {
   "cell_type": "code",
   "execution_count": 2,
   "metadata": {},
   "outputs": [],
   "source": [
    "# Save the file if needed\n",
    "# if using 'Run All' from VS Code this block might error saying 'LOAD_FILE' not defined\n",
    "# even though it's clearly defined above. One needs to restart the kernel and rerun. \n",
    "if not LOAD_FILE:\n",
    "    with open(\"full_coco_data.json\",'w') as f:\n",
    "        json.dump(data,f,indent=4)"
   ]
  },
  {
   "cell_type": "markdown",
   "metadata": {},
   "source": [
    "## Extract a 80/20 Train/Val assignment"
   ]
  },
  {
   "cell_type": "code",
   "execution_count": 3,
   "metadata": {},
   "outputs": [],
   "source": [
    "import pandas as pd\n",
    "from coco_utilities import sub_sample_count_dataframe\n",
    "\n",
    "if not SAMPLE_DATA:\n",
    "    df_subsample = df.copy()\n",
    "    n_classes = df_subsample.shape[1] -1\n",
    "    n_images = df_subsample.shape[0]\n",
    "else:\n",
    "    # sampe data\n",
    "    n_images = 400\n",
    "    n_classes = 10\n",
    "\n",
    "    df_subsample = sub_sample_count_dataframe(df,n_images,n_classes)\n"
   ]
  },
  {
   "cell_type": "code",
   "execution_count": 4,
   "metadata": {},
   "outputs": [
    {
     "name": "stdout",
     "output_type": "stream",
     "text": [
      "W shape: (400, 10)\n",
      "w_ic[0]: [0 0 0 0 0 0 6 0 0 0]\n",
      "image_id[0]: 395180\n",
      "class[0]: couch\n",
      "w_ic[0][0] (num of 'couch' in image 395180): 0\n"
     ]
    }
   ],
   "source": [
    "\n",
    "import numpy as np\n",
    "from coco_utilities import get_dataframe_count_datastructures\n",
    "\n",
    "class_counts_per_image,index_to_image_id,index_to_class_name,class_names,image_ids = get_dataframe_count_datastructures(df_subsample)\n",
    "\n",
    "\n",
    "print(f\"W shape: {class_counts_per_image.shape}\")\n",
    "print(f\"w_ic[0]: {class_counts_per_image[0]}\")\n",
    "print(f\"image_id[0]: {index_to_image_id[0]}\")\n",
    "print(f\"class[0]: {index_to_class_name[0]}\")\n",
    "print(f\"w_ic[0][0] (num of '{index_to_class_name[0]}' in image {index_to_image_id[0]}): {class_counts_per_image[0][0]}\")\n"
   ]
  },
  {
   "cell_type": "code",
   "execution_count": 5,
   "metadata": {},
   "outputs": [],
   "source": [
    "from optimization_routine import stratified_k_way_split_respecting_partition\n",
    "\n",
    "split_ratios = [0.8,0.2] # split weights (must sum to one)\n",
    "# these indexes correspond to the array in split_ratios\n",
    "assignment_index_to_name = {0:\"train\",1:\"val\"}\n",
    "\n",
    "assignments = stratified_k_way_split_respecting_partition(n_images,n_classes,class_counts_per_image,split_ratios)\n"
   ]
  },
  {
   "cell_type": "code",
   "execution_count": null,
   "metadata": {},
   "outputs": [],
   "source": []
  },
  {
   "cell_type": "code",
   "execution_count": 6,
   "metadata": {},
   "outputs": [
    {
     "name": "stdout",
     "output_type": "stream",
     "text": [
      "train: 320 images, 2727 annotations\n",
      "val: 80 images, 772 annotations\n"
     ]
    }
   ],
   "source": [
    "from coco_utilities import construct_coco_split_from_assignments\n",
    "\n",
    "\n",
    "coco_per_assignment = construct_coco_split_from_assignments(data,\n",
    "                                                            assignments,\n",
    "                                                            index_to_image_id,\n",
    "                                                            assignment_index_to_name)\n",
    "\n",
    "# Example: print keys and image counts\n",
    "for name, coco_obj in coco_per_assignment.items():\n",
    "    print(f\"{name}: {len(coco_obj['images'])} images, {len(coco_obj['annotations'])} annotations\")\n"
   ]
  },
  {
   "cell_type": "markdown",
   "metadata": {},
   "source": [
    "## Example 60/20/20 Train/Val/Test Split"
   ]
  },
  {
   "cell_type": "code",
   "execution_count": 7,
   "metadata": {},
   "outputs": [],
   "source": [
    "split_ratios = [0.6,0.2,0.2] # split weights (must sum to one)\n",
    "# these indexes correspond to the array in split_ratios\n",
    "assignment_index_to_name = {0:\"train\",1:\"val\",2:\"test\"}\n",
    "\n",
    "assignments = stratified_k_way_split_respecting_partition(n_images,n_classes,class_counts_per_image,split_ratios)\n"
   ]
  },
  {
   "cell_type": "code",
   "execution_count": 8,
   "metadata": {},
   "outputs": [
    {
     "name": "stdout",
     "output_type": "stream",
     "text": [
      "test: 80 images, 674 annotations\n",
      "train: 240 images, 2107 annotations\n",
      "val: 80 images, 718 annotations\n"
     ]
    }
   ],
   "source": [
    "coco_per_assignment = construct_coco_split_from_assignments(data,\n",
    "                                                            assignments,\n",
    "                                                            index_to_image_id,\n",
    "                                                            assignment_index_to_name)\n",
    "\n",
    "# Example: print keys and image counts\n",
    "for name, coco_obj in coco_per_assignment.items():\n",
    "    print(f\"{name}: {len(coco_obj['images'])} images, {len(coco_obj['annotations'])} annotations\")\n"
   ]
  },
  {
   "cell_type": "code",
   "execution_count": null,
   "metadata": {},
   "outputs": [],
   "source": []
  }
 ],
 "metadata": {
  "kernelspec": {
   "display_name": "stratified_cv",
   "language": "python",
   "name": "python3"
  },
  "language_info": {
   "codemirror_mode": {
    "name": "ipython",
    "version": 3
   },
   "file_extension": ".py",
   "mimetype": "text/x-python",
   "name": "python",
   "nbconvert_exporter": "python",
   "pygments_lexer": "ipython3",
   "version": "3.10.12"
  }
 },
 "nbformat": 4,
 "nbformat_minor": 2
}
